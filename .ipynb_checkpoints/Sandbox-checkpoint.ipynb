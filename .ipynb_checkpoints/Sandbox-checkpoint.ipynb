{
 "cells": [
  {
   "cell_type": "code",
   "execution_count": 54,
   "id": "300c6b9b",
   "metadata": {},
   "outputs": [],
   "source": [
    "from random import randint\n",
    "\n",
    "def grid_generator(m,n,k):\n",
    "    if k>m*n:\n",
    "        return 'error: k should be smaller than m*n'\n",
    "    grid = []\n",
    "    for i in range(n):\n",
    "        line = []\n",
    "        for j in range(m):\n",
    "            line.append(0) \n",
    "        grid.append(line)\n",
    "    mines = 0\n",
    "    while mines<k:\n",
    "        y = randint(0,m-1)\n",
    "        x = randint(0,n-1)\n",
    "        if grid[x][y] != '*':\n",
    "            grid[x][y] = '*'\n",
    "            mines+=1\n",
    "    return grid"
   ]
  },
  {
   "cell_type": "code",
   "execution_count": 55,
   "id": "41448259",
   "metadata": {},
   "outputs": [],
   "source": [
    "def minesweeper(m,n,k):\n",
    "    grid = grid_generator(m,n,k)\n",
    "    for i in range(n):\n",
    "        for j in range(m):       \n",
    "            if grid[i][j] != '*':\n",
    "                print(grid[i][j])\n",
    "    "
   ]
  },
  {
   "cell_type": "code",
   "execution_count": 56,
   "id": "8fef2758",
   "metadata": {},
   "outputs": [],
   "source": [
    "minesweeper(2,3,4)"
   ]
  }
 ],
 "metadata": {
  "kernelspec": {
   "display_name": "Python 3",
   "language": "python",
   "name": "python3"
  },
  "language_info": {
   "codemirror_mode": {
    "name": "ipython",
    "version": 3
   },
   "file_extension": ".py",
   "mimetype": "text/x-python",
   "name": "python",
   "nbconvert_exporter": "python",
   "pygments_lexer": "ipython3",
   "version": "3.8.8"
  }
 },
 "nbformat": 4,
 "nbformat_minor": 5
}
